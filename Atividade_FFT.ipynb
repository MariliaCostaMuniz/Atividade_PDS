{
 "cells": [
  {
   "cell_type": "markdown",
   "id": "035ed38b",
   "metadata": {},
   "source": [
    "# Atividade FFT (Radix2) - Marília Costa Muniz #\n"
   ]
  },
  {
   "cell_type": "code",
   "execution_count": 34,
   "id": "fe2614cf",
   "metadata": {
    "scrolled": true
   },
   "outputs": [
    {
     "name": "stdout",
     "output_type": "stream",
     "text": [
      "Resultado da função recursiva criada:\n",
      "[496.  +0.j         -16.+162.4507262j  -16. +80.43743187j\n",
      " -16. +52.74493134j -16. +38.627417j   -16. +29.93389459j\n",
      " -16. +23.9456922j  -16. +19.49605641j -16. +16.j\n",
      " -16. +13.13086065j -16. +10.69085821j -16.  +8.55217818j\n",
      " -16.  +6.627417j   -16.  +4.85354694j -16.  +3.18259788j\n",
      " -16.  +1.57586245j -16.  +0.j         -16.  -1.57586245j\n",
      " -16.  -3.18259788j -16.  -4.85354694j -16.  -6.627417j\n",
      " -16.  -8.55217818j -16. -10.69085821j -16. -13.13086065j\n",
      " -16. -16.j         -16. -19.49605641j -16. -23.9456922j\n",
      " -16. -29.93389459j -16. -38.627417j   -16. -52.74493134j\n",
      " -16. -80.43743187j -16.-162.4507262j ]\n",
      "Resultado da função do numpy:\n",
      "[496.  +0.j         -16.+162.4507262j  -16. +80.43743187j\n",
      " -16. +52.74493134j -16. +38.627417j   -16. +29.93389459j\n",
      " -16. +23.9456922j  -16. +19.49605641j -16. +16.j\n",
      " -16. +13.13086065j -16. +10.69085821j -16.  +8.55217818j\n",
      " -16.  +6.627417j   -16.  +4.85354694j -16.  +3.18259788j\n",
      " -16.  +1.57586245j -16.  +0.j         -16.  -1.57586245j\n",
      " -16.  -3.18259788j -16.  -4.85354694j -16.  -6.627417j\n",
      " -16.  -8.55217818j -16. -10.69085821j -16. -13.13086065j\n",
      " -16. -16.j         -16. -19.49605641j -16. -23.9456922j\n",
      " -16. -29.93389459j -16. -38.627417j   -16. -52.74493134j\n",
      " -16. -80.43743187j -16.-162.4507262j ]\n"
     ]
    },
    {
     "data": {
      "image/png": "[encoded data removed]",
      "text/plain": [
       "<Figure size 720x504 with 1 Axes>"
      ]
     },
     "metadata": {
      "needs_background": "light"
     },
     "output_type": "display_data"
    }
   ],
   "source": [
    "import numpy as np\n",
    "import matplotlib.pyplot as plt\n",
    "\n",
    "#Função que calcula a fft de forma recursiva\n",
    "def FFT_recursiva(N,A):\n",
    "    if N == 1:    # Parte que finaliza o loop recursivo                     \n",
    "        return A\n",
    "    else:\n",
    "    \n",
    "        Par= FFT(N//2,A[::2])      # Parte recursiva para os valores de indice par\n",
    "        Impar=FFT(N//2,A[1::2])    # Parte recursiva para os valores de indice impar\n",
    "        k = np.arange(N//2)        # Calculo dos indices k    \n",
    "        W = np.exp(-2j*np.pi*k/N)  # Calculo da exponencial complexa\n",
    "        A =np.concatenate([Par + (W * Impar), Par - (W * Impar)]) # concatenação dos valores de indice par e impar multiplicado por W  \n",
    "        \n",
    "    return A\n",
    "\n",
    "\n",
    "x=np.arange(32)   # Criação do sinal x[n] com um tamanho que tem que ser uma potência de 2 \n",
    "N = x.shape[0]    # Guardando o tamanho do sinal na variavel N\n",
    "\n",
    "\n",
    "#Calculando a fft usando a função recursiva criada\n",
    "fft_recursiva= FFT_recursiva(N,x)\n",
    "print(\"Resultado da função recursiva criada:\")\n",
    "print(fft_recursiva)\n",
    "\n",
    "#Calculando a fft usando a função do numpy\n",
    "fft_numpy = np.fft.fft(x)\n",
    "print(\"Resultado da função do numpy:\")\n",
    "print(fft_numpy)\n",
    "\n",
    "\n",
    "# Plot do resultado\n",
    "# Visto que os valores das duas ftt são iguais basta plotar apenas um grafico\n",
    "\n",
    "freq_escala = np.fft.fftfreq(32)      #essa função retorna um array com as frequencias de amostra da fft\n",
    "\n",
    "plt.figure(1,[10,7])\n",
    "plt.subplot(2, 1, 2)\n",
    "plt.plot(freq_escala,np.abs(fft_recursiva))            # Plotagem da escala de frequência e do modulo da fft                  \n",
    "plt.title('FFT recursiva')                             # Configuração do título do gráfico \n",
    "plt.xlabel('Frequencia')                               # Configuração do eixo x do gráfico \n",
    "plt.ylabel('| X[k] |')                                 # Configuração do eixo y do gráfico  \n",
    "plt.grid()                                             # Adiona o grid    \n",
    "plt.show()"
   ]
  },
  {
   "cell_type": "markdown",
   "id": "3ab2d13d",
   "metadata": {},
   "source": [
    "**Referências bibliograficas:** <br>\n",
    "https://fiscomp.if.ufrgs.br/index.php/FFT\n"
   ]
  },
  {
   "cell_type": "code",
   "execution_count": null,
   "id": "1666a3f1",
   "metadata": {},
   "outputs": [],
   "source": []
  }
 ],
 "metadata": {
  "kernelspec": {
   "display_name": "Python 3 (ipykernel)",
   "language": "python",
   "name": "python3"
  },
  "language_info": {
   "codemirror_mode": {
    "name": "ipython",
    "version": 3
   },
   "file_extension": ".py",
   "mimetype": "text/x-python",
   "name": "python",
   "nbconvert_exporter": "python",
   "pygments_lexer": "ipython3",
   "version": "3.9.12"
  }
 },
 "nbformat": 4,
 "nbformat_minor": 5
}
